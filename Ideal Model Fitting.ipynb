{
  "nbformat": 4,
  "nbformat_minor": 0,
  "metadata": {
    "colab": {
      "provenance": [],
      "collapsed_sections": [
        "0aoyFfL8rhN9",
        "XqQEPIdy2J4k",
        "oInuizWAH5aJ",
        "dHIK25U03jB0",
        "1NCIOWRQK3sC",
        "byoI6H9wMAKI",
        "eKGrR3s0eJ89"
      ],
      "include_colab_link": true
    },
    "kernelspec": {
      "name": "python3",
      "display_name": "Python 3"
    },
    "language_info": {
      "name": "python"
    }
  },
  "cells": [
    {
      "cell_type": "markdown",
      "metadata": {
        "id": "view-in-github",
        "colab_type": "text"
      },
      "source": [
        "<a href=\"https://colab.research.google.com/github/BaDybala/Computational-Physics-Projects/blob/main/Ideal%20Model%20Fitting.ipynb\" target=\"_parent\"><img src=\"https://colab.research.google.com/assets/colab-badge.svg\" alt=\"Open In Colab\"/></a>"
      ]
    },
    {
      "cell_type": "code",
      "source": [
        "# import useful modules\n",
        "%matplotlib inline\n",
        "import numpy as np\n",
        "import matplotlib.pyplot as plt"
      ],
      "metadata": {
        "id": "3DjLXlOTtvga"
      },
      "execution_count": null,
      "outputs": []
    },
    {
      "cell_type": "markdown",
      "source": [
        "### Simulate a dataset containing $N=20$ data points with independent identically distributed Gaussian noise plus a linear trend."
      ],
      "metadata": {
        "id": "0aoyFfL8rhN9"
      }
    },
    {
      "cell_type": "code",
      "source": [
        "# initialise random number generator\n",
        "rng = np.random.default_rng(seed=1234)\n",
        "N = 20\n",
        "# create N x values randomly spaced between -10 and 10\n",
        "x = rng.uniform(-10,10,N)\n",
        "#x = np.linspace(-10,10,N)\n",
        "# randomly select the uncertainty for each observation between 0 and 1\n",
        "s = rng.uniform(0.1,1.0,len(x))\n",
        "#s = 0.3\n",
        "# draw N independent noise values from standard normal distribution\n",
        "e_ = rng.normal(0,1,len(x))\n",
        "# rescale to the individual observations' standard deviations\n",
        "e = e_ * s\n",
        "# create a tight, regularly spaced grid of x values for plotting\n",
        "xx = np.linspace(-10,10,100)"
      ],
      "metadata": {
        "id": "AU4liZIHvIDN"
      },
      "execution_count": null,
      "outputs": []
    },
    {
      "cell_type": "code",
      "source": [
        "# select true parameters of our straight line\n",
        "p_true = [-0.05,0.23] # highest order first\n",
        "# generate noisy data\n",
        "#y_obs = p_true[0] * x + p_true[1] + e\n",
        "y_obs = np.polyval(p_true, x) + e\n",
        "# true function (for plotting)\n",
        "yy_true = np.polyval(p_true, xx)\n",
        "# plot the data and true model\n",
        "plt.errorbar(x, y_obs, yerr=s, fmt='ko')\n",
        "plt.plot(xx, yy_true, 'r-');"
      ],
      "metadata": {
        "id": "IJv48ZICvF_v",
        "colab": {
          "base_uri": "https://localhost:8080/"
        },
        "outputId": "dbc32c7d-46b1-4f6f-d70f-b261e596be52"
      },
      "execution_count": null,
      "outputs": [
        {
          "output_type": "display_data",
          "data": {
            "text/plain": [
              "<Figure size 640x480 with 1 Axes>"
            ],
            "image/png": "[encoded data removed]"
          },
          "metadata": {}
        }
      ]
    },
    {
      "cell_type": "markdown",
      "source": [
        "### Fit the data with a straight line.\n",
        "\n"
      ],
      "metadata": {
        "id": "XqQEPIdy2J4k"
      }
    },
    {
      "cell_type": "code",
      "source": [
        "# The easiest way is to use np.polyfit\n",
        "p_fit = np.polyfit(x, y_obs, 1, w = 1/s**2)\n",
        "# note how we used the w argument to give the uncertainties.\n",
        "# w can be a scalar (if all observatoins share the same uncertainty)\n",
        "# or a vector of the same lenght as x and y_obs"
      ],
      "metadata": {
        "id": "1JFcdo153j33"
      },
      "execution_count": null,
      "outputs": []
    },
    {
      "cell_type": "code",
      "source": [
        "# plot the results\n",
        "yy_fit = np.polyval(p_fit, xx)\n",
        "plt.errorbar(x, y_obs, yerr=s, fmt='ko')\n",
        "plt.plot(xx, yy_true, 'r-')\n",
        "plt.plot(xx, yy_fit, 'b--');"
      ],
      "metadata": {
        "colab": {
          "base_uri": "https://localhost:8080/",
          "height": 265
        },
        "id": "xgyYGfqJHkWN",
        "outputId": "c02b7edc-aea1-4d95-c7a9-ddda587f60e7"
      },
      "execution_count": null,
      "outputs": [
        {
          "output_type": "display_data",
          "data": {
            "text/plain": [
              "<Figure size 432x288 with 1 Axes>"
            ],
            "image/png": "[encoded data removed]"
          },
          "metadata": {
            "needs_background": "light"
          }
        }
      ]
    },
    {
      "cell_type": "markdown",
      "source": [
        "### How good is the fit?"
      ],
      "metadata": {
        "id": "oInuizWAH5aJ"
      }
    },
    {
      "cell_type": "code",
      "source": [
        "# Evaluate the model at the locations of the observations\n",
        "y_fit = np.polyval(p_fit, x)\n",
        "# and the best-fit chi^2\n",
        "chi2 = (((y_obs-y_fit)/s)**2).sum()\n",
        "# Print chi2 and no. dofs\n",
        "print (chi2, N-2)"
      ],
      "metadata": {
        "colab": {
          "base_uri": "https://localhost:8080/"
        },
        "id": "tGDU0DYM4q_r",
        "outputId": "892cbb2d-b600-43e8-e98d-3546e48ff297"
      },
      "execution_count": null,
      "outputs": [
        {
          "output_type": "stream",
          "name": "stdout",
          "text": [
            "29.51821491892643 18\n"
          ]
        }
      ]
    },
    {
      "cell_type": "code",
      "source": [
        "# Compute the quantity Q introduced in the lectures\n",
        "# Q is the probability of obtaining a value of chi2 at least as large as the value obtained\n",
        "# For this we need the regularised lower incomplete gamma function.\n",
        "# Luckily for us, this is implemented in scipy.special as gammaincc\n",
        "from scipy.special import gammainc\n",
        "Q = gammainc(chi2/2,(N-2)/2)\n",
        "print(Q)\n"
      ],
      "metadata": {
        "colab": {
          "base_uri": "https://localhost:8080/"
        },
        "id": "-jmhg7Ch7NM-",
        "outputId": "06a7bdbd-eefb-4212-95d2-3cbb93bc195f"
      },
      "execution_count": null,
      "outputs": [
        {
          "output_type": "stream",
          "name": "stdout",
          "text": [
            "0.047895852298303405\n"
          ]
        }
      ]
    },
    {
      "cell_type": "markdown",
      "source": [
        "With this particular dataset, $Q<5$\\%. less than 5\\%.\n",
        "\n",
        "This is not considered so bad as to call the model into question. Something with a 5\\% chance of happening does happen once every 20 tries..."
      ],
      "metadata": {
        "id": "1w5A6TnnKOwt"
      }
    },
    {
      "cell_type": "markdown",
      "source": [
        "### Compare the MLE values of the parameters (slope $a_1$ and intercept $a_2$) to the true values."
      ],
      "metadata": {
        "id": "dHIK25U03jB0"
      }
    },
    {
      "cell_type": "code",
      "source": [
        "print('Slope: true value = {}, fitted value {}'.format(p_true[0], p_fit[0]))\n",
        "print('Intercept: true value = {}, fitted value {}'.format(p_true[1], p_fit[1]))\n"
      ],
      "metadata": {
        "id": "4OBkeX5yKw2X",
        "colab": {
          "base_uri": "https://localhost:8080/"
        },
        "outputId": "d8578598-fb78-43df-f9bc-5f75795cc3ab"
      },
      "execution_count": null,
      "outputs": [
        {
          "output_type": "stream",
          "name": "stdout",
          "text": [
            "Slope: true value = -0.05, fitted value -0.04245969856984744\n",
            "Intercept: true value = 0.23, fitted value 0.14903302454183506\n"
          ]
        }
      ]
    },
    {
      "cell_type": "markdown",
      "source": [
        "### Are the individual parameters consistent with the true values at the 95% confidence level?"
      ],
      "metadata": {
        "id": "1NCIOWRQK3sC"
      }
    },
    {
      "cell_type": "markdown",
      "source": [
        "To answer this question we need the covariance matrix of the parameters"
      ],
      "metadata": {
        "id": "g_XPQZ5qLHaB"
      }
    },
    {
      "cell_type": "code",
      "source": [
        "# let's re-run polyfit with the cov option\n",
        "p_fit, cov = np.polyfit(x, y_obs, 1, w = 1/s**2, cov=True)\n",
        "e_fit = np.sqrt(np.diag(cov)) # this is the array of parameter uncertainties"
      ],
      "metadata": {
        "id": "hmAMPm9PHMGP"
      },
      "execution_count": null,
      "outputs": []
    },
    {
      "cell_type": "markdown",
      "source": [
        "For a 1-D Gaussian, the symmetric 95\\% confidence interval about the mean runs from from $-1.96 \\sigma$ to $+1.96 \\sigma$\n",
        "\n"
      ],
      "metadata": {
        "id": "rsmQ7MNCHfh6"
      }
    },
    {
      "cell_type": "code",
      "source": [
        "down = p_fit - 1.96 * e_fit # from mean - 1.96 sigma\n",
        "up = p_fit + 1.96 * e_fit # to mean + 1.96 sigma\n",
        "print('Slope: true value = {}, 95% confidence interval {} to {}'.format(p_true[0], down[0], up[0]))\n",
        "print('Intercept: true value = {}, 95% confidence interval {} to {}'.format(p_true[1], down[1], up[1]))\n"
      ],
      "metadata": {
        "colab": {
          "base_uri": "https://localhost:8080/"
        },
        "id": "kjlwrMJvHegD",
        "outputId": "9d90fbb9-4583-4e58-d7d5-8b2af1838c44"
      },
      "execution_count": null,
      "outputs": [
        {
          "output_type": "stream",
          "name": "stdout",
          "text": [
            "Slope: true value = -0.05, 95% confidence interval -0.05203198278700087 to -0.032887414352694\n",
            "Intercept: true value = 0.23, 95% confidence interval 0.06820402187550062 to 0.2298620272081695\n"
          ]
        }
      ]
    },
    {
      "cell_type": "markdown",
      "source": [
        "In this case the true slope is within the 95% confidence interval but the true intercept lies just outside of it.\n",
        "\n",
        "There's nothing wrong with our model or our confidence interval estimation as such -- it's just that 5% chance is not that unlikely."
      ],
      "metadata": {
        "id": "9Nm3CN-wLrdM"
      }
    },
    {
      "cell_type": "markdown",
      "source": [
        "### Plot a 95\\% joint confidence region for $a_1$ and $a_2$.\n"
      ],
      "metadata": {
        "id": "byoI6H9wMAKI"
      }
    },
    {
      "cell_type": "markdown",
      "source": [
        "We know such a region will be an ellipse, but it's actually not so easy to work out how to make it the right size, shape and orientation.\n",
        "\n",
        "I cheated by stealing a routine from the [matplotlib gallery](https://matplotlib.org/stable/gallery/statistics/confidence_ellipse.html).\n",
        "\n",
        "That routines takes in a sample of x and y values, works out its sample mean vector and covariance matrix, and then draws the ellipse. In our case, we know the mean vector and covariance matrix, so I modified the routine to take in the mean vector and covariance matrix directly.\n",
        "\n",
        "The original routine also takes in the number of sigmas at which to plot the ellipse, but here we want a specific confidence level. Luckily we went over how to get the no. sigmas from the confidence level for a 2-D Gaussian during today's lecture."
      ],
      "metadata": {
        "id": "2XU9QZKMMHGl"
      }
    },
    {
      "cell_type": "markdown",
      "source": [],
      "metadata": {
        "id": "u0TIE2dBZjbH"
      }
    },
    {
      "cell_type": "code",
      "source": [
        "from matplotlib.patches import Ellipse\n",
        "import matplotlib.transforms as transforms\n",
        "def get_confidence_ellipse(mu, cov, level, facecolor='none', **kwargs):\n",
        "    \"\"\"\n",
        "    Create a plot of the covariance confidence ellipse given the mean vector,\n",
        "    covariance matrix and desired confidence level\n",
        "    \"\"\"\n",
        "\n",
        "    pearson = cov[0, 1]/np.sqrt(cov[0, 0] * cov[1, 1])\n",
        "    # Using a special case to obtain the eigenvalues of this\n",
        "    # two-dimensional dataset.\n",
        "    ell_radius_x = np.sqrt(1 + pearson)\n",
        "    ell_radius_y = np.sqrt(1 - pearson)\n",
        "    ellipse = Ellipse((0, 0), width=ell_radius_x * 2, height=ell_radius_y * 2,\n",
        "                      facecolor=facecolor, **kwargs)\n",
        "\n",
        "    # convert confidence level to no. sigmas\n",
        "    n_std = np.sqrt(-2 * np.log(1-level))\n",
        "\n",
        "    # Calculating the standard deviation of x from\n",
        "    # the squareroot of the variance and multiplying\n",
        "    # with the given number of standard deviations.\n",
        "    scale_x = np.sqrt(cov[0, 0]) * n_std\n",
        "    mean_x = mu[0]\n",
        "\n",
        "    # calculating the standard deviation of y ...\n",
        "    scale_y = np.sqrt(cov[1, 1]) * n_std\n",
        "    mean_y = mu[1]\n",
        "\n",
        "    transf = transforms.Affine2D() \\\n",
        "        .rotate_deg(45) \\\n",
        "        .scale(scale_x, scale_y) \\\n",
        "        .translate(mean_x, mean_y)\n",
        "\n",
        "    ellipse.set_transform(transf + ax.transData)\n",
        "    return ellipse"
      ],
      "metadata": {
        "id": "glWE2EhCaPEa"
      },
      "execution_count": null,
      "outputs": []
    },
    {
      "cell_type": "code",
      "source": [
        "def get_nsig(level):\n",
        "    return n_std\n"
      ],
      "metadata": {
        "id": "mXW8ADnWZiiN"
      },
      "execution_count": null,
      "outputs": []
    },
    {
      "cell_type": "code",
      "source": [
        "fig, ax = plt.subplots(1,1)\n",
        "\n",
        "plt.axvline(0,c='k', lw=0.5)\n",
        "plt.axhline(0,c='k',lw=0.5)\n",
        "\n",
        "plt.axvspan(down[0],up[0],color='blue', lw=0, alpha = 0.2, label='1-D 95% intervals')\n",
        "plt.axhspan(down[1],up[1],color='blue', lw=0, alpha = 0.2)\n",
        "\n",
        "ell = get_confidence_ellipse(p_fit, cov, 0.95,\n",
        "                             edgecolor='blue', label = '2-D 95% region')\n",
        "ax.add_patch(ell)\n",
        "\n",
        "plt.scatter(p_fit[0], p_fit[1], marker = '+', c='blue', s=30, label = 'best-fit')\n",
        "plt.scatter(p_true[0], p_true[1], marker = '+', c='red', s=30, label = 'truth')\n",
        "\n",
        "plt.xlim(-0.1, 0.1)\n",
        "plt.ylim(-0.5,0.5)\n",
        "plt.xlabel('slope')\n",
        "plt.ylabel('intercept')\n",
        "plt.legend(loc='lower right');"
      ],
      "metadata": {
        "colab": {
          "base_uri": "https://localhost:8080/",
          "height": 279
        },
        "id": "FJldmeQYXR3s",
        "outputId": "ca2c6518-b35b-4f7e-934f-73bfb073ee0e"
      },
      "execution_count": null,
      "outputs": [
        {
          "output_type": "display_data",
          "data": {
            "text/plain": [
              "<Figure size 432x288 with 1 Axes>"
            ],
            "image/png": "[encoded data removed]"
          },
          "metadata": {
            "needs_background": "light"
          }
        }
      ]
    },
    {
      "cell_type": "markdown",
      "source": [
        "As we can see, the true value falls well within the 95% 2-D confidence region."
      ],
      "metadata": {
        "id": "XByOsXJGct4d"
      }
    },
    {
      "cell_type": "markdown",
      "source": [
        "## Fit the data with a second order polynomial. Is the fit better? Which model is preferred?"
      ],
      "metadata": {
        "id": "eKGrR3s0eJ89"
      }
    },
    {
      "cell_type": "code",
      "source": [
        "p_fit = np.polyfit(x, y_obs, 2, w = 1/s**2)\n",
        "yy_fit = np.polyval(p_fit, xx)\n",
        "plt.errorbar(x, y_obs, yerr=s, fmt='ko')\n",
        "plt.plot(xx, yy_true, 'r-')\n",
        "plt.plot(xx, yy_fit, 'b--');"
      ],
      "metadata": {
        "colab": {
          "base_uri": "https://localhost:8080/",
          "height": 265
        },
        "id": "D-ZKQ8AOeZ8R",
        "outputId": "ff49ba63-9cc5-4fc5-e0b3-6d3def5dbe47"
      },
      "execution_count": null,
      "outputs": [
        {
          "output_type": "display_data",
          "data": {
            "text/plain": [
              "<Figure size 432x288 with 1 Axes>"
            ],
            "image/png": "[encoded data removed]"
          },
          "metadata": {
            "needs_background": "light"
          }
        }
      ]
    },
    {
      "cell_type": "code",
      "source": [
        "y_fit = np.polyval(p_fit, x)\n",
        "chi2_new = (((y_obs-y_fit)/s)**2).sum()\n",
        "print (chi2/(N-2), chi2_new/(N-3))"
      ],
      "metadata": {
        "colab": {
          "base_uri": "https://localhost:8080/"
        },
        "outputId": "98d9d102-b8db-4090-f1d9-06c3ce7bda42",
        "id": "Y2f_vFz3eZ8X"
      },
      "execution_count": null,
      "outputs": [
        {
          "output_type": "stream",
          "name": "stdout",
          "text": [
            "1.639900828829246 1.5606895634325213\n"
          ]
        }
      ]
    },
    {
      "cell_type": "markdown",
      "source": [
        "So formally the quadratic fit is somewhat better than the linear one, but is it preferred?"
      ],
      "metadata": {
        "id": "OHqgH0_les5B"
      }
    },
    {
      "cell_type": "code",
      "source": [
        "BIC1 = 2 * np.log(N) + chi2\n",
        "BIC2 = 3 * np.log(N) + chi2_new\n",
        "print(BIC1, BIC2, BIC1-BIC2)"
      ],
      "metadata": {
        "colab": {
          "base_uri": "https://localhost:8080/"
        },
        "id": "LluPpPiDR57m",
        "outputId": "3b486b5c-d51a-4150-d9dc-691af62c7936"
      },
      "execution_count": null,
      "outputs": [
        {
          "output_type": "stream",
          "name": "stdout",
          "text": [
            "35.50967946603441 35.518919399014834 -0.009239932980420917\n"
          ]
        }
      ]
    },
    {
      "cell_type": "markdown",
      "source": [
        "Actually there's not much between them. Let's try increasing $N$"
      ],
      "metadata": {
        "id": "_U_OesjLfC_u"
      }
    },
    {
      "cell_type": "code",
      "source": [
        "N = 200\n",
        "x = rng.uniform(-10,10,N)\n",
        "s = rng.uniform(0.1,1.0,len(x))\n",
        "e_ = rng.normal(0,1,len(x))\n",
        "e = e_ * s\n",
        "y_obs = np.polyval(p_true, x) + e\n",
        "yy_true = np.polyval(p_true, xx)\n",
        "plt.errorbar(x, y_obs, yerr=s, fmt='ko')\n",
        "plt.plot(xx, yy_true, 'r-')\n",
        "\n",
        "# linear fit\n",
        "p1 = np.polyfit(x, y_obs, 1, w = 1/s**2)\n",
        "yy1 = np.polyval(p1, xx)\n",
        "plt.plot(xx, yy1, 'b--');\n",
        "yf1 = np.polyval(p1, x)\n",
        "chi21 = (((y_obs-yf1)/s)**2).sum()\n",
        "BIC1 = 2 * np.log(N) + chi21\n",
        "\n",
        "# quadratic fit\n",
        "p2 = np.polyfit(x, y_obs, 2, w = 1/s**2)\n",
        "yy2 = np.polyval(p2, xx)\n",
        "yf2 = np.polyval(p2, x)\n",
        "plt.plot(xx, yy2, 'b--');\n",
        "chi22 = (((y_obs-yf2)/s)**2).sum()\n",
        "BIC2 = 3 * np.log(N) + chi22\n",
        "\n",
        "print(BIC1, BIC2, BIC1-BIC2)"
      ],
      "metadata": {
        "colab": {
          "base_uri": "https://localhost:8080/",
          "height": 282
        },
        "id": "6asatyV0fLPF",
        "outputId": "c3e82a72-4542-4414-c9e5-d0bbbbe18211"
      },
      "execution_count": null,
      "outputs": [
        {
          "output_type": "stream",
          "name": "stdout",
          "text": [
            "235.63262992302268 244.4662068273584 -8.833576904335729\n"
          ]
        },
        {
          "output_type": "display_data",
          "data": {
            "text/plain": [
              "<Figure size 432x288 with 1 Axes>"
            ],
            "image/png": "[encoded data removed]"
          },
          "metadata": {
            "needs_background": "light"
          }
        }
      ]
    },
    {
      "cell_type": "markdown",
      "source": [
        "With more data, the support for the correct model over the incorrect one increases."
      ],
      "metadata": {
        "id": "_AWz18v3gA2F"
      }
    }
  ]
}