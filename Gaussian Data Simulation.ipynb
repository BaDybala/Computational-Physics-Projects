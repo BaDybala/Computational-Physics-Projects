{
  "nbformat": 4,
  "nbformat_minor": 0,
  "metadata": {
    "colab": {
      "provenance": [],
      "include_colab_link": true
    },
    "kernelspec": {
      "name": "python3",
      "display_name": "Python 3"
    },
    "language_info": {
      "name": "python"
    }
  },
  "cells": [
    {
      "cell_type": "markdown",
      "metadata": {
        "id": "view-in-github",
        "colab_type": "text"
      },
      "source": [
        "<a href=\"https://colab.research.google.com/github/BaDybala/Computational-Physics-Projects/blob/main/Gaussian%20Data%20Simulation.ipynb\" target=\"_parent\"><img src=\"https://colab.research.google.com/assets/colab-badge.svg\" alt=\"Open In Colab\"/></a>"
      ]
    },
    {
      "cell_type": "code",
      "execution_count": null,
      "metadata": {
        "id": "pCgMDXuqgMbi"
      },
      "outputs": [],
      "source": [
        "%matplotlib inline\n",
        "import matplotlib.pyplot as plt\n",
        "import numpy as np"
      ]
    },
    {
      "cell_type": "markdown",
      "source": [
        "\n",
        "## Simulate data\n"
      ],
      "metadata": {
        "id": "2zKUXRORgiIm"
      }
    },
    {
      "cell_type": "markdown",
      "source": [
        "Let us simulate $N=10$ observations of a physical quantity with true value $\\mu=10$, where the measurement errors have a standard deviation of $\\sigma=0.1$.\n",
        "\n",
        "We do this by drawing from a Gaussian pdf with mean $\\mu$ and standard deviation $\\sigma$."
      ],
      "metadata": {
        "id": "-tMUbzr3TkT3"
      }
    },
    {
      "cell_type": "code",
      "source": [
        "# create an instance of the default random number generator\n",
        "rng = np.random.default_rng()\n",
        "# draw samples\n",
        "N, mu, sig = 5, 1, 0.1\n",
        "x = rng.normal(mu,sig,N)\n",
        "# print values\n",
        "print(x)"
      ],
      "metadata": {
        "id": "JvAJ8ufAUBpp",
        "colab": {
          "base_uri": "https://localhost:8080/"
        },
        "outputId": "e2901087-c2ae-4eec-e057-ccb3ca3f9c39"
      },
      "execution_count": null,
      "outputs": [
        {
          "output_type": "stream",
          "name": "stdout",
          "text": [
            "[0.85283757 0.9667432  0.87318043 0.95196441 0.94817634]\n"
          ]
        }
      ]
    },
    {
      "cell_type": "markdown",
      "source": [
        "Compute sample mean, variance and standard deviation"
      ],
      "metadata": {
        "id": "YS6HFth3UAvA"
      }
    },
    {
      "cell_type": "code",
      "source": [
        "x_mean = sum(x)/N\n",
        "x_var = sum((x-x_mean)**2)/N\n",
        "x_std = np.sqrt(x_var)\n",
        "print(x_mean, x_var, x_std)"
      ],
      "metadata": {
        "colab": {
          "base_uri": "https://localhost:8080/"
        },
        "id": "JcY40w7KgmDb",
        "outputId": "172549ac-6d15-43c0-9cd3-7312f96cea58"
      },
      "execution_count": null,
      "outputs": [
        {
          "output_type": "stream",
          "name": "stdout",
          "text": [
            "0.9185803914704265 0.002138668639360177 0.046245741851117246\n"
          ]
        }
      ]
    },
    {
      "cell_type": "markdown",
      "source": [
        "Note that `numpy` provides some useful methods for this"
      ],
      "metadata": {
        "id": "79orKt1NYEij"
      }
    },
    {
      "cell_type": "code",
      "source": [
        "print(x.mean(), x.var(), x.std())\n",
        "print(np.mean(x), np.var(x), np.std(x))"
      ],
      "metadata": {
        "colab": {
          "base_uri": "https://localhost:8080/"
        },
        "id": "-noLlahbg0dp",
        "outputId": "86f5cded-c3b1-466e-eab9-1c2d5aaec681"
      },
      "execution_count": null,
      "outputs": [
        {
          "output_type": "stream",
          "name": "stdout",
          "text": [
            "0.9185803914704265 0.002138668639360177 0.046245741851117246\n",
            "0.9185803914704265 0.002138668639360177 0.046245741851117246\n"
          ]
        }
      ]
    },
    {
      "cell_type": "markdown",
      "source": [
        "Let's repeat the process of drawing samples and computing the sample mean and standard deviation many times."
      ],
      "metadata": {
        "id": "rUIPg0DvWfYq"
      }
    },
    {
      "cell_type": "code",
      "source": [
        "N_sim = 1000\n"
      ],
      "metadata": {
        "id": "VYNMUQpjX2Db"
      },
      "execution_count": null,
      "outputs": []
    },
    {
      "cell_type": "code",
      "source": [
        "x_mean = np.zeros(N_sim)\n",
        "x_std = np.zeros(N_sim)\n",
        "for i in range(N_sim):\n",
        "  x = rng.normal(mu,sig,N)\n",
        "  x_mean[i] = x.mean()\n",
        "  x_std[i] = x.std()"
      ],
      "metadata": {
        "id": "GzhaKM5Xevtw"
      },
      "execution_count": null,
      "outputs": []
    },
    {
      "cell_type": "markdown",
      "source": [
        "An alternative way to do the same thing would be"
      ],
      "metadata": {
        "id": "mAc0QGmEcRSA"
      }
    },
    {
      "cell_type": "code",
      "source": [
        "x = rng.normal(mu,sig,(N,N_sim))\n",
        "x_mean = x.mean(axis=0)\n",
        "x_std = x.std(axis=0)"
      ],
      "metadata": {
        "id": "XBN1pH9TcADf"
      },
      "execution_count": null,
      "outputs": []
    },
    {
      "cell_type": "markdown",
      "source": [
        "The expectation value of the sample mean is $\\mu$ and its variance is $\\sigma^2/N$. Does our experiment match that prediction?"
      ],
      "metadata": {
        "id": "5b8MfK8PX2SS"
      }
    },
    {
      "cell_type": "code",
      "source": [
        "print(x_mean.mean(),x_mean.var(), x_mean.std())\n",
        "var_expected = sig**2 / N\n",
        "sig_expected = sig / np.sqrt(N)\n",
        "print(mu, var_expected, sig_expected)"
      ],
      "metadata": {
        "colab": {
          "base_uri": "https://localhost:8080/"
        },
        "id": "H3sqqtRah80e",
        "outputId": "3b8aa8d4-79d1-4fb2-ddcf-f0f6b0d900a7"
      },
      "execution_count": null,
      "outputs": [
        {
          "output_type": "stream",
          "name": "stdout",
          "text": [
            "1.002988446753421 0.002024674610236456 0.04499638441293318\n",
            "1 0.0020000000000000005 0.044721359549995794\n"
          ]
        }
      ]
    },
    {
      "cell_type": "markdown",
      "source": [
        "Seems ok. Let's plot a histogram to check the distribution is indeed Gaussian"
      ],
      "metadata": {
        "id": "pXQZ6_CoZy4G"
      }
    },
    {
      "cell_type": "code",
      "source": [
        "# plot a histogram\n",
        "plt.hist(x_mean,histtype='step', density=True , label='observed')\n",
        "xx = np.linspace(mu-sig*5,mu+sig*5,100)\n",
        "g = np.exp(-(xx-mu)**2/2/sig_expected**2) / np.sqrt(2*np.pi*sig_expected**2)\n",
        "plt.plot(xx,g,'C1--', label='expected')\n",
        "plt.xlim(mu-sig_expected*5,mu+sig_expected*5)\n",
        "plt.xlabel(r'$\\langle \\hat{x} \\rangle$')\n",
        "plt.ylabel(r'$f(\\langle \\hat{x} \\rangle)$')\n",
        "plt.title('Distribution of the sample mean ({} groups of {})'.format(N_sim, N));"
      ],
      "metadata": {
        "colab": {
          "base_uri": "https://localhost:8080/",
          "height": 477
        },
        "outputId": "ee9c4379-cf86-4076-d5f0-e2968e50542e",
        "id": "2HT8r2ghd1_A"
      },
      "execution_count": null,
      "outputs": [
        {
          "output_type": "display_data",
          "data": {
            "text/plain": [
              "<Figure size 640x480 with 1 Axes>"
            ],
            "image/png": "[encoded data removed]"
          },
          "metadata": {}
        }
      ]
    },
    {
      "cell_type": "markdown",
      "source": [
        "In the lectures we saw that the sample standard deviation is *biased*, meaning that its expectation value is not $\\sigma$ but $\\frac{N-1}{N}\\sigma$). Let's see if our experiment bears that out."
      ],
      "metadata": {
        "id": "hsZbcnz8d1_B"
      }
    },
    {
      "cell_type": "code",
      "source": [
        "print(x_std.mean())\n",
        "print(sig, sig*(N-1)/N)\n"
      ],
      "metadata": {
        "colab": {
          "base_uri": "https://localhost:8080/"
        },
        "outputId": "768316a0-79bf-4164-ddd0-5f13659ee169",
        "id": "EriYPvv1d1_C"
      },
      "execution_count": null,
      "outputs": [
        {
          "output_type": "stream",
          "name": "stdout",
          "text": [
            "0.08363199172885842\n",
            "0.1 0.08\n"
          ]
        }
      ]
    },
    {
      "cell_type": "markdown",
      "source": [
        "Here are some `numpy` shortcuts again - but beware!"
      ],
      "metadata": {
        "id": "lyLwkCsxgVmh"
      }
    },
    {
      "cell_type": "code",
      "source": [
        "x_std_unbiased = x.std(axis=0,ddof=1) # this gives the wrong answer\n",
        "x_var_unbiased = x.var(axis=0,ddof=1) # this gives the right answer\n",
        "x_std_unbiased = np.sqrt(x_var_unbiased)"
      ],
      "metadata": {
        "id": "eCVH33N-fr2F"
      },
      "execution_count": null,
      "outputs": []
    }
  ]
}